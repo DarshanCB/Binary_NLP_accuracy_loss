{
 "cells": [
  {
   "cell_type": "code",
   "execution_count": 58,
   "metadata": {},
   "outputs": [
    {
     "name": "stdout",
     "output_type": "stream",
     "text": [
      "Requirement already satisfied: torchtext in c:\\users\\computer\\anaconda3\\lib\\site-packages (0.6.0)\n",
      "Requirement already satisfied: tqdm in c:\\users\\computer\\anaconda3\\lib\\site-packages (from torchtext) (4.42.1)\n",
      "Requirement already satisfied: six in c:\\users\\computer\\anaconda3\\lib\\site-packages (from torchtext) (1.14.0)\n",
      "Requirement already satisfied: sentencepiece in c:\\users\\computer\\anaconda3\\lib\\site-packages (from torchtext) (0.1.91)\n",
      "Requirement already satisfied: requests in c:\\users\\computer\\anaconda3\\lib\\site-packages (from torchtext) (2.22.0)\n",
      "Requirement already satisfied: torch in c:\\users\\computer\\anaconda3\\lib\\site-packages (from torchtext) (1.3.1)\n",
      "Requirement already satisfied: numpy in c:\\users\\computer\\anaconda3\\lib\\site-packages (from torchtext) (1.18.1)\n",
      "Requirement already satisfied: certifi>=2017.4.17 in c:\\users\\computer\\anaconda3\\lib\\site-packages (from requests->torchtext) (2019.11.28)\n",
      "Requirement already satisfied: urllib3!=1.25.0,!=1.25.1,<1.26,>=1.21.1 in c:\\users\\computer\\anaconda3\\lib\\site-packages (from requests->torchtext) (1.25.8)\n",
      "Requirement already satisfied: chardet<3.1.0,>=3.0.2 in c:\\users\\computer\\anaconda3\\lib\\site-packages (from requests->torchtext) (3.0.4)\n",
      "Requirement already satisfied: idna<2.9,>=2.5 in c:\\users\\computer\\anaconda3\\lib\\site-packages (from requests->torchtext) (2.8)\n"
     ]
    }
   ],
   "source": [
    "!pip install torchtext"
   ]
  },
  {
   "cell_type": "code",
   "execution_count": 59,
   "metadata": {},
   "outputs": [],
   "source": [
    "import pandas as pd\n",
    "\n",
    "from sklearn.model_selection import train_test_split\n",
    "from sklearn.metrics import accuracy_score\n",
    "\n"
   ]
  },
  {
   "cell_type": "code",
   "execution_count": 60,
   "metadata": {},
   "outputs": [
    {
     "data": {
      "text/html": [
       "<div>\n",
       "<style scoped>\n",
       "    .dataframe tbody tr th:only-of-type {\n",
       "        vertical-align: middle;\n",
       "    }\n",
       "\n",
       "    .dataframe tbody tr th {\n",
       "        vertical-align: top;\n",
       "    }\n",
       "\n",
       "    .dataframe thead th {\n",
       "        text-align: right;\n",
       "    }\n",
       "</style>\n",
       "<table border=\"1\" class=\"dataframe\">\n",
       "  <thead>\n",
       "    <tr style=\"text-align: right;\">\n",
       "      <th></th>\n",
       "      <th>v1</th>\n",
       "      <th>v2</th>\n",
       "      <th>Unnamed: 2</th>\n",
       "      <th>Unnamed: 3</th>\n",
       "      <th>Unnamed: 4</th>\n",
       "    </tr>\n",
       "  </thead>\n",
       "  <tbody>\n",
       "    <tr>\n",
       "      <th>0</th>\n",
       "      <td>ham</td>\n",
       "      <td>Go until jurong point, crazy.. Available only ...</td>\n",
       "      <td>NaN</td>\n",
       "      <td>NaN</td>\n",
       "      <td>NaN</td>\n",
       "    </tr>\n",
       "    <tr>\n",
       "      <th>1</th>\n",
       "      <td>ham</td>\n",
       "      <td>Ok lar... Joking wif u oni...</td>\n",
       "      <td>NaN</td>\n",
       "      <td>NaN</td>\n",
       "      <td>NaN</td>\n",
       "    </tr>\n",
       "    <tr>\n",
       "      <th>2</th>\n",
       "      <td>spam</td>\n",
       "      <td>Free entry in 2 a wkly comp to win FA Cup fina...</td>\n",
       "      <td>NaN</td>\n",
       "      <td>NaN</td>\n",
       "      <td>NaN</td>\n",
       "    </tr>\n",
       "    <tr>\n",
       "      <th>3</th>\n",
       "      <td>ham</td>\n",
       "      <td>U dun say so early hor... U c already then say...</td>\n",
       "      <td>NaN</td>\n",
       "      <td>NaN</td>\n",
       "      <td>NaN</td>\n",
       "    </tr>\n",
       "    <tr>\n",
       "      <th>4</th>\n",
       "      <td>ham</td>\n",
       "      <td>Nah I don't think he goes to usf, he lives aro...</td>\n",
       "      <td>NaN</td>\n",
       "      <td>NaN</td>\n",
       "      <td>NaN</td>\n",
       "    </tr>\n",
       "  </tbody>\n",
       "</table>\n",
       "</div>"
      ],
      "text/plain": [
       "     v1                                                 v2 Unnamed: 2  \\\n",
       "0   ham  Go until jurong point, crazy.. Available only ...        NaN   \n",
       "1   ham                      Ok lar... Joking wif u oni...        NaN   \n",
       "2  spam  Free entry in 2 a wkly comp to win FA Cup fina...        NaN   \n",
       "3   ham  U dun say so early hor... U c already then say...        NaN   \n",
       "4   ham  Nah I don't think he goes to usf, he lives aro...        NaN   \n",
       "\n",
       "  Unnamed: 3 Unnamed: 4  \n",
       "0        NaN        NaN  \n",
       "1        NaN        NaN  \n",
       "2        NaN        NaN  \n",
       "3        NaN        NaN  \n",
       "4        NaN        NaN  "
      ]
     },
     "execution_count": 60,
     "metadata": {},
     "output_type": "execute_result"
    }
   ],
   "source": [
    "data = pd.read_csv(r'D:\\Kaggle-SMS-Spam-Collection-Dataset--master\\Kaggle-SMS-Spam-Collection-Dataset--master\\spam.csv', encoding='latin-1')\n",
    "data.head()"
   ]
  },
  {
   "cell_type": "code",
   "execution_count": 61,
   "metadata": {},
   "outputs": [],
   "source": [
    "data = data.drop(columns=['Unnamed: 2','Unnamed: 3','Unnamed: 4'], axis=1)"
   ]
  },
  {
   "cell_type": "code",
   "execution_count": 62,
   "metadata": {},
   "outputs": [
    {
     "data": {
      "text/html": [
       "<div>\n",
       "<style scoped>\n",
       "    .dataframe tbody tr th:only-of-type {\n",
       "        vertical-align: middle;\n",
       "    }\n",
       "\n",
       "    .dataframe tbody tr th {\n",
       "        vertical-align: top;\n",
       "    }\n",
       "\n",
       "    .dataframe thead th {\n",
       "        text-align: right;\n",
       "    }\n",
       "</style>\n",
       "<table border=\"1\" class=\"dataframe\">\n",
       "  <thead>\n",
       "    <tr style=\"text-align: right;\">\n",
       "      <th></th>\n",
       "      <th>v1</th>\n",
       "      <th>v2</th>\n",
       "    </tr>\n",
       "  </thead>\n",
       "  <tbody>\n",
       "    <tr>\n",
       "      <th>0</th>\n",
       "      <td>ham</td>\n",
       "      <td>Go until jurong point, crazy.. Available only ...</td>\n",
       "    </tr>\n",
       "    <tr>\n",
       "      <th>1</th>\n",
       "      <td>ham</td>\n",
       "      <td>Ok lar... Joking wif u oni...</td>\n",
       "    </tr>\n",
       "    <tr>\n",
       "      <th>2</th>\n",
       "      <td>spam</td>\n",
       "      <td>Free entry in 2 a wkly comp to win FA Cup fina...</td>\n",
       "    </tr>\n",
       "    <tr>\n",
       "      <th>3</th>\n",
       "      <td>ham</td>\n",
       "      <td>U dun say so early hor... U c already then say...</td>\n",
       "    </tr>\n",
       "    <tr>\n",
       "      <th>4</th>\n",
       "      <td>ham</td>\n",
       "      <td>Nah I don't think he goes to usf, he lives aro...</td>\n",
       "    </tr>\n",
       "  </tbody>\n",
       "</table>\n",
       "</div>"
      ],
      "text/plain": [
       "     v1                                                 v2\n",
       "0   ham  Go until jurong point, crazy.. Available only ...\n",
       "1   ham                      Ok lar... Joking wif u oni...\n",
       "2  spam  Free entry in 2 a wkly comp to win FA Cup fina...\n",
       "3   ham  U dun say so early hor... U c already then say...\n",
       "4   ham  Nah I don't think he goes to usf, he lives aro..."
      ]
     },
     "execution_count": 62,
     "metadata": {},
     "output_type": "execute_result"
    }
   ],
   "source": [
    "data.head()"
   ]
  },
  {
   "cell_type": "code",
   "execution_count": 63,
   "metadata": {},
   "outputs": [
    {
     "data": {
      "text/html": [
       "<div>\n",
       "<style scoped>\n",
       "    .dataframe tbody tr th:only-of-type {\n",
       "        vertical-align: middle;\n",
       "    }\n",
       "\n",
       "    .dataframe tbody tr th {\n",
       "        vertical-align: top;\n",
       "    }\n",
       "\n",
       "    .dataframe thead th {\n",
       "        text-align: right;\n",
       "    }\n",
       "</style>\n",
       "<table border=\"1\" class=\"dataframe\">\n",
       "  <thead>\n",
       "    <tr style=\"text-align: right;\">\n",
       "      <th></th>\n",
       "      <th>labels</th>\n",
       "      <th>text</th>\n",
       "    </tr>\n",
       "  </thead>\n",
       "  <tbody>\n",
       "    <tr>\n",
       "      <th>0</th>\n",
       "      <td>ham</td>\n",
       "      <td>Go until jurong point, crazy.. Available only ...</td>\n",
       "    </tr>\n",
       "    <tr>\n",
       "      <th>1</th>\n",
       "      <td>ham</td>\n",
       "      <td>Ok lar... Joking wif u oni...</td>\n",
       "    </tr>\n",
       "    <tr>\n",
       "      <th>2</th>\n",
       "      <td>spam</td>\n",
       "      <td>Free entry in 2 a wkly comp to win FA Cup fina...</td>\n",
       "    </tr>\n",
       "    <tr>\n",
       "      <th>3</th>\n",
       "      <td>ham</td>\n",
       "      <td>U dun say so early hor... U c already then say...</td>\n",
       "    </tr>\n",
       "    <tr>\n",
       "      <th>4</th>\n",
       "      <td>ham</td>\n",
       "      <td>Nah I don't think he goes to usf, he lives aro...</td>\n",
       "    </tr>\n",
       "  </tbody>\n",
       "</table>\n",
       "</div>"
      ],
      "text/plain": [
       "  labels                                               text\n",
       "0    ham  Go until jurong point, crazy.. Available only ...\n",
       "1    ham                      Ok lar... Joking wif u oni...\n",
       "2   spam  Free entry in 2 a wkly comp to win FA Cup fina...\n",
       "3    ham  U dun say so early hor... U c already then say...\n",
       "4    ham  Nah I don't think he goes to usf, he lives aro..."
      ]
     },
     "execution_count": 63,
     "metadata": {},
     "output_type": "execute_result"
    }
   ],
   "source": [
    "data = data.rename(index= str, columns = {'v1': 'labels','v2':'text'})\n",
    "data.head()"
   ]
  },
  {
   "cell_type": "code",
   "execution_count": 64,
   "metadata": {},
   "outputs": [],
   "source": [
    "train, test = train_test_split(data, test_size = 0.2, random_state = 42)"
   ]
  },
  {
   "cell_type": "code",
   "execution_count": 65,
   "metadata": {},
   "outputs": [
    {
     "data": {
      "text/plain": [
       "(     labels                                               text\n",
       " 0       ham  No I'm in the same boat. Still here at my moms...\n",
       " 1      spam  (Bank of Granite issues Strong-Buy) EXPLOSIVE ...\n",
       " 2       ham     They r giving a second chance to rahul dengra.\n",
       " 3       ham     O i played smash bros  &lt;#&gt;  religiously.\n",
       " 4      spam  PRIVATE! Your 2003 Account Statement for 07973...\n",
       " ...     ...                                                ...\n",
       " 4452    ham  I came hostel. I m going to sleep. Plz call me...\n",
       " 4453    ham                             Sorry, I'll call later\n",
       " 4454    ham      Prabha..i'm soryda..realy..frm heart i'm sory\n",
       " 4455    ham                         Nt joking seriously i told\n",
       " 4456    ham                In work now. Going have in few min.\n",
       " \n",
       " [4457 rows x 2 columns],\n",
       "      labels                                               text\n",
       " 0       ham  Funny fact Nobody teaches volcanoes 2 erupt, t...\n",
       " 1       ham  I sent my scores to sophas and i had to do sec...\n",
       " 2      spam  We know someone who you know that fancies you....\n",
       " 3       ham  Only if you promise your getting out as SOON a...\n",
       " 4      spam  Congratulations ur awarded either å£500 of CD ...\n",
       " ...     ...                                                ...\n",
       " 1110    ham   &lt;DECIMAL&gt; m but its not a common car he...\n",
       " 1111    ham  Rightio. 11.48 it is then. Well arent we all u...\n",
       " 1112    ham  Yes i have. So that's why u texted. Pshew...mi...\n",
       " 1113    ham                             Get the door, I'm here\n",
       " 1114   spam  Kit Strip - you have been billed 150p. Netcoll...\n",
       " \n",
       " [1115 rows x 2 columns])"
      ]
     },
     "execution_count": 65,
     "metadata": {},
     "output_type": "execute_result"
    }
   ],
   "source": [
    "train.reset_index(drop=True), test.reset_index(drop=True)"
   ]
  },
  {
   "cell_type": "code",
   "execution_count": 66,
   "metadata": {},
   "outputs": [
    {
     "data": {
      "text/plain": [
       "((4457, 2), (1115, 2))"
      ]
     },
     "execution_count": 66,
     "metadata": {},
     "output_type": "execute_result"
    }
   ],
   "source": [
    "train.shape, test.shape"
   ]
  },
  {
   "cell_type": "code",
   "execution_count": 67,
   "metadata": {},
   "outputs": [],
   "source": [
    "train.to_csv('D:/Kaggle-SMS-Spam-Collection-Dataset--master/Kaggle-SMS-Spam-Collection-Dataset--master/train.csv', index=False)\n",
    "test.to_csv('D:/Kaggle-SMS-Spam-Collection-Dataset--master/Kaggle-SMS-Spam-Collection-Dataset--master/test.csv', index=False)\n"
   ]
  },
  {
   "cell_type": "code",
   "execution_count": 68,
   "metadata": {},
   "outputs": [
    {
     "name": "stderr",
     "output_type": "stream",
     "text": [
      "'ls' is not recognized as an internal or external command,\n",
      "operable program or batch file.\n"
     ]
    }
   ],
   "source": [
    "!ls Kaggle-SMS-Spam-Collection-Dataset--master/Kaggle-SMS-Spam-Collection-Dataset--master\n"
   ]
  },
  {
   "cell_type": "code",
   "execution_count": 69,
   "metadata": {},
   "outputs": [],
   "source": [
    "import numpy as np\n",
    "import torch\n",
    "import torchtext\n",
    "\n",
    "from torchtext.data import Field, BucketIterator, TabularDataset"
   ]
  },
  {
   "cell_type": "code",
   "execution_count": 70,
   "metadata": {},
   "outputs": [
    {
     "name": "stderr",
     "output_type": "stream",
     "text": [
      "[nltk_data] Downloading package punkt to\n",
      "[nltk_data]     C:\\Users\\Computer\\AppData\\Roaming\\nltk_data...\n",
      "[nltk_data]   Package punkt is already up-to-date!\n"
     ]
    }
   ],
   "source": [
    "import nltk\n",
    "nltk.download('punkt')\n",
    "\n",
    "from nltk import word_tokenize"
   ]
  },
  {
   "cell_type": "code",
   "execution_count": 71,
   "metadata": {},
   "outputs": [],
   "source": [
    "TEXT = torchtext.data.Field(tokenize = word_tokenize)"
   ]
  },
  {
   "cell_type": "code",
   "execution_count": 72,
   "metadata": {},
   "outputs": [],
   "source": [
    "LABEL = torchtext.data.LabelField(dtype = torch.float)"
   ]
  },
  {
   "cell_type": "code",
   "execution_count": 73,
   "metadata": {},
   "outputs": [],
   "source": [
    "datafields= [('labels', LABEL), ('text', TEXT)]"
   ]
  },
  {
   "cell_type": "code",
   "execution_count": 74,
   "metadata": {},
   "outputs": [],
   "source": [
    "train, test = torchtext.data.TabularDataset.splits(path = 'D:/Kaggle-SMS-Spam-Collection-Dataset--master/Kaggle-SMS-Spam-Collection-Dataset--master',\n",
    "                                                    train = 'train.csv',\n",
    "                                                    test = 'test.csv',\n",
    "                                                    format = 'csv' ,\n",
    "                                                    skip_header = True,\n",
    "                                                    fields = datafields)"
   ]
  },
  {
   "cell_type": "code",
   "execution_count": 75,
   "metadata": {},
   "outputs": [
    {
     "data": {
      "text/plain": [
       "[<torchtext.data.example.Example at 0xd7a6208>,\n",
       " <torchtext.data.example.Example at 0xd7a6088>,\n",
       " <torchtext.data.example.Example at 0xd7a6f08>,\n",
       " <torchtext.data.example.Example at 0xd7953c8>,\n",
       " <torchtext.data.example.Example at 0xd795848>]"
      ]
     },
     "execution_count": 75,
     "metadata": {},
     "output_type": "execute_result"
    }
   ],
   "source": [
    "train[:5]"
   ]
  },
  {
   "cell_type": "code",
   "execution_count": 76,
   "metadata": {},
   "outputs": [
    {
     "name": "stdout",
     "output_type": "stream",
     "text": [
      "4457\n",
      "1115\n"
     ]
    }
   ],
   "source": [
    "print(len(train))\n",
    "print(len(test))"
   ]
  },
  {
   "cell_type": "code",
   "execution_count": 77,
   "metadata": {},
   "outputs": [
    {
     "data": {
      "text/plain": [
       "dict_keys(['labels', 'text'])"
      ]
     },
     "execution_count": 77,
     "metadata": {},
     "output_type": "execute_result"
    }
   ],
   "source": [
    "train[5].__dict__.keys()\n"
   ]
  },
  {
   "cell_type": "code",
   "execution_count": 78,
   "metadata": {},
   "outputs": [
    {
     "data": {
      "text/plain": [
       "['G', 'says', 'you', 'never', 'answer', 'your', 'texts', ',', 'confirm/deny']"
      ]
     },
     "execution_count": 78,
     "metadata": {},
     "output_type": "execute_result"
    }
   ],
   "source": [
    "train[5].text"
   ]
  },
  {
   "cell_type": "code",
   "execution_count": 79,
   "metadata": {},
   "outputs": [],
   "source": [
    " TEXT.build_vocab(train, max_size = 10500)"
   ]
  },
  {
   "cell_type": "code",
   "execution_count": 80,
   "metadata": {},
   "outputs": [],
   "source": [
    "LABEL.build_vocab(train)"
   ]
  },
  {
   "cell_type": "code",
   "execution_count": 81,
   "metadata": {},
   "outputs": [
    {
     "name": "stdout",
     "output_type": "stream",
     "text": [
      "10502\n",
      "2\n"
     ]
    }
   ],
   "source": [
    "print(len(TEXT.vocab))\n",
    "print(len(LABEL.vocab))"
   ]
  },
  {
   "cell_type": "code",
   "execution_count": 82,
   "metadata": {},
   "outputs": [
    {
     "name": "stdout",
     "output_type": "stream",
     "text": [
      "[('.', 3890), ('to', 1750), ('I', 1571), (',', 1468), ('you', 1460), ('?', 1256), ('!', 1134), ('a', 1067), ('...', 1007), ('the', 946), ('&', 772), ('i', 743), ('and', 669), ('in', 663), ('is', 646), (';', 641), ('u', 628), ('me', 586), (':', 570), ('for', 527), ('my', 494), ('of', 471), ('your', 461), ('it', 456), ('have', 395), ('on', 393), (')', 393), ('2', 390), ('that', 384), (\"'s\", 383), (\"'m\", 320), ('now', 317), ('are', 316), ('do', 311), ('call', 307), ('at', 301), ('or', 298), ('U', 295), ('not', 294), (\"n't\", 281), ('be', 275), ('lt', 267), ('gt', 267), ('with', 267), ('get', 265), ('will', 263), ('so', 252), ('#', 245), ('can', 243), ('ur', 237)]\n"
     ]
    }
   ],
   "source": [
    "print(TEXT.vocab.freqs.most_common(50))"
   ]
  },
  {
   "cell_type": "code",
   "execution_count": 83,
   "metadata": {},
   "outputs": [
    {
     "name": "stdout",
     "output_type": "stream",
     "text": [
      "['<unk>', '<pad>', '.', 'to', 'I', ',', 'you', '?', '!', 'a']\n"
     ]
    }
   ],
   "source": [
    " print(TEXT.vocab.itos[:10])"
   ]
  },
  {
   "cell_type": "code",
   "execution_count": 84,
   "metadata": {},
   "outputs": [
    {
     "name": "stdout",
     "output_type": "stream",
     "text": [
      "defaultdict(None, {'ham': 0, 'spam': 1})\n"
     ]
    }
   ],
   "source": [
    "print(LABEL.vocab.stoi)"
   ]
  },
  {
   "cell_type": "code",
   "execution_count": 85,
   "metadata": {},
   "outputs": [],
   "source": [
    " batch_size = 64\n",
    "    \n",
    "train_iterator, test_iterator = torchtext.data.BucketIterator.splits(\n",
    "    (train, test),\n",
    "    batch_size = batch_size,\n",
    "    sort_key = lambda x : len(x.text),\n",
    "    sort_within_batch = False)"
   ]
  },
  {
   "cell_type": "code",
   "execution_count": 86,
   "metadata": {},
   "outputs": [],
   "source": [
    "import torch.nn as nn\n"
   ]
  },
  {
   "cell_type": "code",
   "execution_count": 87,
   "metadata": {},
   "outputs": [],
   "source": [
    "class RNN(nn.Module): #inherits from the base nn class\n",
    "    \n",
    "    def __init__(self, input_dim, embedding_dim, hidden_dim, output_dim):#input parameters give the size of the feature vectors\n",
    "        super().__init__() #this class could be extended using super and __init__ is used as a constructor to initialise the class\n",
    "        self.embedding = nn.Embedding(input_dim, embedding_dim) #it converts one-hot encoding to dense format (building relation ship with surroundings)\n",
    "        self.rnn = nn.RNN(embedding_dim, hidden_dim) #RNN neural network \n",
    "        self.fc = nn.Linear(hidden_dim, output_dim) #last fully connected layers, prediction of the text spam or ham\n",
    "        \n",
    "    def forward(self, text): #Forward path applied to the text SMS text message\n",
    "        embedded = self.embedding(text) # Words will be converted in to dense form of network\n",
    "        output, hidden = self.rnn(embedded) # fed in to RNN where final hidden satate which will be fed to the linear layer\n",
    "        hidden_1D = hidden.squeeze(0) #last hidden state\n",
    "        assert torch.equal(output[-1, :, :], hidden_1D) # confirm last hiddeen state\n",
    "        return self.fc(hidden_1D)#feed into fully connected rnn"
   ]
  },
  {
   "cell_type": "code",
   "execution_count": 98,
   "metadata": {},
   "outputs": [],
   "source": [
    "input_dim = len(TEXT.vocab) #pass the input text\n",
    "\n",
    "embedding_dim = 100\n",
    "\n",
    "hidden_dim = 256\n",
    "\n",
    "output_dim = 1 #0 reperent ham 1 represent spam"
   ]
  },
  {
   "cell_type": "code",
   "execution_count": 100,
   "metadata": {},
   "outputs": [
    {
     "name": "stdout",
     "output_type": "stream",
     "text": [
      "RNN(\n",
      "  (embedding): Embedding(10502, 100)\n",
      "  (rnn): RNN(100, 256)\n",
      "  (fc): Linear(in_features=256, out_features=1, bias=True)\n",
      ")\n"
     ]
    }
   ],
   "source": [
    "model = RNN(input_dim, embedding_dim, hidden_dim, output_dim) # pass in alll the data to RNN model\n",
    "print(model)"
   ]
  },
  {
   "cell_type": "code",
   "execution_count": 101,
   "metadata": {},
   "outputs": [],
   "source": [
    "import torch.optim as optim\n",
    "\n",
    "optimizer = optim.Adam(model.parameters(), lr = 1e-6) #optimize the data with Adam optimizer with the learning rate of 10 power -6"
   ]
  },
  {
   "cell_type": "code",
   "execution_count": 103,
   "metadata": {},
   "outputs": [
    {
     "name": "stdout",
     "output_type": "stream",
     "text": [
      "BCEWithLogitsLoss()\n"
     ]
    }
   ],
   "source": [
    "criterion = nn.BCEWithLogitsLoss()#Cross-entropy loss in order to range the value from 0 to 1\n",
    "print(criterion)"
   ]
  },
  {
   "cell_type": "code",
   "execution_count": 144,
   "metadata": {},
   "outputs": [],
   "source": [
    "def train(model, iterator, optimizer, criterion):\n",
    "    \n",
    "    epoch_loss =0\n",
    "    epoch_acc = 0\n",
    "    \n",
    "    model.train()\n",
    "    \n",
    "    for batch in iterator:\n",
    "        \n",
    "        optimizer.zero_grad() #we need to set the gradients to zero before starting to do backpropragation because PyTorch accumulates the gradients on subsequent backward passes. This is convenient while training RNNs,  gradient descent to find local max and min\n",
    "        predictions = model(batch.text).squeeze(1) # predictions are passed in batch, squeeze is used to make one dimensional data\n",
    "        loss = criterion(predictions, batch.labels)# loss identification\n",
    "        \n",
    "        rounded_preds = torch.round(torch.sigmoid(predictions)) #to range the value between 0 to 1\n",
    "        correct = (rounded_preds == batch.labels).float()\n",
    "        \n",
    "        acc = correct.sum() / len(correct) #accuracy is calculated for the whole batch\n",
    "        \n",
    "        loss.backward() #backward propogation\n",
    "        \n",
    "        optimizer.step() #backward propogation\n",
    "        \n",
    "        epoch_loss += loss.item() #upgrade the epoch loss for every batch\n",
    "        epoch_acc += acc.item()   #upgrade the accuracy\n",
    "        \n",
    "    return epoch_loss / len(iterator), epoch_acc / len(iterator) #summed to get the epoch_loss and epoch_accuracy\n"
   ]
  },
  {
   "cell_type": "code",
   "execution_count": 145,
   "metadata": {},
   "outputs": [
    {
     "name": "stdout",
     "output_type": "stream",
     "text": [
      "|Epoch:01 | Train Loss:0.407 | Train Acc:85.78%\n",
      "|Epoch:02 | Train Loss:0.406 | Train Acc:85.78%\n",
      "|Epoch:03 | Train Loss:0.404 | Train Acc:85.76%\n",
      "|Epoch:04 | Train Loss:0.404 | Train Acc:85.73%\n",
      "|Epoch:05 | Train Loss:0.404 | Train Acc:85.87%\n"
     ]
    }
   ],
   "source": [
    "num_epochs = 5\n",
    "\n",
    "for epoch in range(num_epochs):\n",
    "    train_loss, train_acc = train(model, train_iterator, optimizer, criterion)\n",
    "    print(f'|Epoch:{epoch+1:02} | Train Loss:{train_loss:.3f} | Train Acc:{train_acc*100:.2f}%')"
   ]
  },
  {
   "cell_type": "code",
   "execution_count": 147,
   "metadata": {},
   "outputs": [
    {
     "data": {
      "text/plain": [
       "RNN(\n",
       "  (embedding): Embedding(10502, 100)\n",
       "  (rnn): RNN(100, 256)\n",
       "  (fc): Linear(in_features=256, out_features=1, bias=True)\n",
       ")"
      ]
     },
     "execution_count": 147,
     "metadata": {},
     "output_type": "execute_result"
    }
   ],
   "source": [
    "epoch_loss = 0\n",
    "epoch_acc = 0\n",
    "\n",
    "\n",
    "model.eval()"
   ]
  },
  {
   "cell_type": "code",
   "execution_count": 148,
   "metadata": {},
   "outputs": [],
   "source": [
    "def test(model, iterator):\n",
    "    \n",
    "    epoch_loss =0\n",
    "    epoch_acc = 0\n",
    "    \n",
    "    model.eval()\n",
    "    torch.no_grad()\n",
    "    \n",
    "    for batch in iterator:\n",
    "        \n",
    "        \n",
    "        predictions = model(batch.text).squeeze(1) # predictions are passed in batch, squeeze is used to make one dimensional data\n",
    "        loss = criterion(predictions, batch.labels)# loss identification\n",
    "        \n",
    "        rounded_preds = torch.round(torch.sigmoid(predictions)) #to range the value between 0 to 1\n",
    "        correct = (rounded_preds == batch.labels).float()\n",
    "        \n",
    "        acc = correct.sum() / len(correct) #accuracy is calculated for the whole batch\n",
    "        \n",
    "        epoch_loss += loss.item() #upgrade the epoch loss for every batch\n",
    "        epoch_acc += acc.item()   #upgrade the accuracy\n",
    "        \n",
    "    return epoch_loss / len(iterator), epoch_acc / len(iterator) #summed to get the epoch_loss and epoch_accuracy\n"
   ]
  },
  {
   "cell_type": "code",
   "execution_count": 149,
   "metadata": {},
   "outputs": [
    {
     "name": "stdout",
     "output_type": "stream",
     "text": [
      "|Epoch:01 | Test Loss:0.572 | Train Acc:70.02%\n",
      "|Epoch:02 | Test Loss:0.572 | Train Acc:70.02%\n",
      "|Epoch:03 | Test Loss:0.572 | Train Acc:70.02%\n",
      "|Epoch:04 | Test Loss:0.572 | Train Acc:70.02%\n",
      "|Epoch:05 | Test Loss:0.572 | Train Acc:70.02%\n"
     ]
    }
   ],
   "source": [
    "num_epochs = 5\n",
    "\n",
    "for epoch in range(num_epochs):\n",
    "    test_loss, test_acc = test(model, test_iterator)\n",
    "    print(f'|Epoch:{epoch+1:02} | Test Loss:{test_loss:.3f} | Train Acc:{test_acc*100:.2f}%')\n"
   ]
  },
  {
   "cell_type": "code",
   "execution_count": 159,
   "metadata": {},
   "outputs": [
    {
     "name": "stderr",
     "output_type": "stream",
     "text": [
      "C:\\Users\\Computer\\anaconda3\\lib\\site-packages\\ipykernel_launcher.py:6: TqdmDeprecationWarning: Please use `tqdm.notebook.trange` instead of `tqdm.tnrange`\n",
      "  \n"
     ]
    },
    {
     "data": {
      "application/vnd.jupyter.widget-view+json": {
       "model_id": "f98ccbfb6fb7472596c12da61a0f06a7",
       "version_major": 2,
       "version_minor": 0
      },
      "text/plain": [
       "HBox(children=(FloatProgress(value=0.0), HTML(value='')))"
      ]
     },
     "metadata": {},
     "output_type": "display_data"
    },
    {
     "name": "stdout",
     "output_type": "stream",
     "text": [
      "\n"
     ]
    }
   ],
   "source": [
    "import tqdm\n",
    "\n",
    "train_loss, train_acc = [], []\n",
    "test_loss, test_acc = [], []\n",
    "\n",
    "for i in tqdm.tnrange(100):\n",
    "    loss, accuracy = train(model, train_iterator, optimizer, criterion)\n",
    "    train_loss.append(loss)\n",
    "    train_acc.append(accuracy)\n",
    "    loss, accuracy = test(model, test_iterator)\n",
    "    test_loss.append(loss)\n",
    "    test_acc.append(accuracy)\n",
    "   \n",
    "\n"
   ]
  },
  {
   "cell_type": "code",
   "execution_count": 160,
   "metadata": {},
   "outputs": [
    {
     "data": {
      "image/png": "[encoded data removed]",
      "text/plain": [
       "<Figure size 720x216 with 2 Axes>"
      ]
     },
     "metadata": {
      "needs_background": "light"
     },
     "output_type": "display_data"
    }
   ],
   "source": [
    "\n",
    "def plot(train_acc, train_loss, test_acc, test_loss, epochs):\n",
    "  fig, axes = plt.subplots(1, 2, figsize=(10, 3))\n",
    "  plt.sca(axes[0])\n",
    "\n",
    "  axes[0].set_xlabel('epocs')\n",
    "  axes[0].set_ylabel('accuracy')\n",
    "\n",
    "  axes[0].plot(range(1, epochs+1), train_acc, label = \"train accuracy\")\n",
    "  axes[0].plot(range(1, epochs+1), test_acc, label = \"val accuracy\")\n",
    "               \n",
    "  axes[0].legend()\n",
    "\n",
    "  plt.sca(axes[1])\n",
    "  axes[1].set_xlabel('epocs')\n",
    "  axes[1].set_ylabel('Loss')\n",
    "\n",
    "  axes[1].plot(range(1, epochs+1), train_loss, label = \"train loss\")\n",
    "  axes[1].plot(range(1, epochs+1), test_loss, label = \"val loss\")\n",
    "  axes[1].legend()\n",
    "  plt.show()\n",
    "\n",
    "# plot graph before normalization\n",
    "plot(train_acc, train_loss, test_acc, test_loss, 100)"
   ]
  },
  {
   "cell_type": "code",
   "execution_count": null,
   "metadata": {},
   "outputs": [],
   "source": []
  }
 ],
 "metadata": {
  "kernelspec": {
   "display_name": "Python 3",
   "language": "python",
   "name": "python3"
  },
  "language_info": {
   "codemirror_mode": {
    "name": "ipython",
    "version": 3
   },
   "file_extension": ".py",
   "mimetype": "text/x-python",
   "name": "python",
   "nbconvert_exporter": "python",
   "pygments_lexer": "ipython3",
   "version": "3.7.6"
  }
 },
 "nbformat": 4,
 "nbformat_minor": 2
}
